{
 "cells": [
  {
   "attachments": {},
   "cell_type": "markdown",
   "metadata": {},
   "source": [
    "# Mein erstes Jupyter Notebook\n",
    "\n",
    "Um in VS Code mit Jupyter Notebooks arbeiten zu können, braucht es ein\n",
    "paar Einrichtungsschritte.\n",
    "\n",
    "Als erstes muss ein Kernel ausgewählt werden. Dies geschieht, in dem man\n",
    "oben rechts \"Select Kernel\" anklickt.\n",
    "\n",
    "![Select Kernel](anleitungen\\images\\Select_Kernel.png)\n",
    "\n",
    "Im Fenster, das sich dann öffnet ist die Zeile \"Python Environments...\"\n",
    "auszuwählen.\n",
    "\n",
    "![Python Environments](anleitungen\\images\\Python_Environement.png)\n",
    "\n",
    "Im nächsten Fenster ist \"+ Create Python Environment\" zu wählen.\n",
    "\n",
    "![Create Python Environment](anleitungen\\images\\Create_Environment.png)\n",
    "\n",
    "Dann \"Venv Create a `.venv` virtual environment in the current\n",
    "workspace\".\n",
    "\n",
    "![Venv](anleitungen\\images\\Venv.png)\n",
    "\n",
    "Zu guter Letzt muss die Zeile \"Python 3.11...\" ausgewählt werden (die\n",
    "genaue Version kann vom Bild abweichen).\n",
    "\n",
    "![Python Version](anleitungen\\images\\Python11.png)\n",
    "\n",
    "Wenn das alles erledigt ist, muss zum Abschluss noch der ipykernel\n",
    "installiert werden. Dies geschieht in dem das Menu Terminal > New\n",
    "Terminal ausgewählt wird und im Terminal, das am unteren Rand des\n",
    "Bildschirms aufgeht, der Befehl `python -m pip install ipykernel`\n",
    "eingegeben wird. Die darauf folgende Installation nimmt ein bisschen\n",
    "Zeit in Anspruch, muss aber für jedes Projekt nur einmal durchgeführt werden."
   ]
  },
  {
   "attachments": {},
   "cell_type": "markdown",
   "metadata": {},
   "source": [
    "## Hello World!\n",
    "\n",
    "Um der Tradition genüge zu tun, testen Sie Ihre Installation, in dem Sie\n",
    "in der folgenden Zelle den Befehl `print(\"Hello World!\")` eingeben. Wenn\n",
    "die Ausgabe `Hello World!` lautet, war die Installation erfolgreich."
   ]
  },
  {
   "cell_type": "code",
   "execution_count": null,
   "metadata": {},
   "outputs": [],
   "source": [
    "# hier den Hello World-Befehl eingeben"
   ]
  }
 ],
 "metadata": {
  "language_info": {
   "name": "python"
  },
  "orig_nbformat": 4
 },
 "nbformat": 4,
 "nbformat_minor": 2
}
